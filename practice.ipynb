{
 "cells": [
  {
   "cell_type": "markdown",
   "metadata": {},
   "source": [
    "### Practice\n",
    "### Date : 08 July 2019"
   ]
  },
  {
   "cell_type": "code",
   "execution_count": 2,
   "metadata": {},
   "outputs": [
    {
     "name": "stdout",
     "output_type": "stream",
     "text": [
      "abc xyz\n",
      "xbc ayz\n"
     ]
    }
   ],
   "source": [
    "# Write a Python program to get a single string from two given strings,\n",
    "# separated by a space and swap the first two characters of each string.\n",
    "s = input().split()\n",
    "s1 = s[0]\n",
    "s2 = s[1]\n",
    "rs1 = s[0][0]\n",
    "rs2 = s[1][0]\n",
    "s[0] = s[0].replace(s[0][0],rs2)\n",
    "s[1] = s[1].replace(s[1][0],rs1)\n",
    "print(s[0],s[1])"
   ]
  },
  {
   "cell_type": "code",
   "execution_count": 5,
   "metadata": {},
   "outputs": [
    {
     "name": "stdout",
     "output_type": "stream",
     "text": [
      "xd\n",
      "xd\n"
     ]
    }
   ],
   "source": [
    "#  Write a Python program to add 'ing' at the end of a given string (length should be at least 3).\n",
    "# If the given string already ends with 'ing' then add 'ly' instead.\n",
    "# If the string length of the given string is less than 3, leave it unchanged.\n",
    "# Sample String : 'abc'\n",
    "# Expected Result : 'abcing'\n",
    "# Sample String : 'string'\n",
    "# Expected Result : 'stringly'\n",
    "s = input()\n",
    "if len(s)>3:\n",
    "    if s[-3:]=='ing':\n",
    "        s=s+'ly'\n",
    "    else:\n",
    "        s=s+'ing'\n",
    "    print(s)\n",
    "else:\n",
    "    print(s)"
   ]
  },
  {
   "cell_type": "code",
   "execution_count": 17,
   "metadata": {},
   "outputs": [
    {
     "name": "stdout",
     "output_type": "stream",
     "text": [
      "ajdf eljfjnasdklfn\n",
      "eljfjnasdklfn\n"
     ]
    }
   ],
   "source": [
    "# Write a Python function that takes a list of words and returns the length of the longest one\n",
    "def find_longest_word(words_list):\n",
    "    word_li = []\n",
    "    for n in words_list:\n",
    "        word_li.append((len(n), n))\n",
    "    word_li.sort()\n",
    "    return word_li[-1][1]\n",
    "print(find_longest_word(input().split()))"
   ]
  },
  {
   "cell_type": "code",
   "execution_count": 35,
   "metadata": {},
   "outputs": [
    {
     "name": "stdout",
     "output_type": "stream",
     "text": [
      "acbds\n",
      "3\n",
      "acbs\n"
     ]
    }
   ],
   "source": [
    "# Write a Python program to remove the nth index character from a nonempty string.\n",
    "def nthindexChar(s,ind):\n",
    "    f = s[:ind]\n",
    "    se = s[ind+1:]\n",
    "    print(f+se)\n",
    "nthindexChar(input(),int(input()))"
   ]
  },
  {
   "cell_type": "code",
   "execution_count": 34,
   "metadata": {},
   "outputs": [
    {
     "name": "stdout",
     "output_type": "stream",
     "text": [
      "AbcdE\n"
     ]
    },
    {
     "data": {
      "text/plain": [
       "True"
      ]
     },
     "execution_count": 34,
     "metadata": {},
     "output_type": "execute_result"
    }
   ],
   "source": [
    "# Create a function to check first and last characters of given string are Capital or not\n",
    "def checkCapitalOrNot(s):\n",
    "    if s[0].isupper() and s[-1].isupper():\n",
    "        return True\n",
    "    return False\n",
    "checkCapitalOrNot(input())"
   ]
  },
  {
   "cell_type": "code",
   "execution_count": 33,
   "metadata": {},
   "outputs": [
    {
     "name": "stdout",
     "output_type": "stream",
     "text": [
      "abcd\n",
      "dbca\n"
     ]
    }
   ],
   "source": [
    "# Write a Python program to change a given string to a new string where the first and last chars have been exchanged.\n",
    "def change_sring(s):\n",
    "      return s[-1:] + s[1:-1] + s[:1]\n",
    "print(change_sring(input()))"
   ]
  },
  {
   "cell_type": "code",
   "execution_count": 37,
   "metadata": {},
   "outputs": [
    {
     "name": "stdout",
     "output_type": "stream",
     "text": [
      "sindhuja\n",
      "snhj"
     ]
    }
   ],
   "source": [
    "#  Write a Python program to remove the characters which have odd index values of a given string\n",
    "def removeOddIndexValues(s):\n",
    "    for i in range(0,len(s),2):\n",
    "        print(s[i],end ='')\n",
    "removeOddIndexValues(input())"
   ]
  },
  {
   "cell_type": "code",
   "execution_count": 1,
   "metadata": {},
   "outputs": [
    {
     "name": "stdout",
     "output_type": "stream",
     "text": [
      "the lazy fox jumps into the red sea\n",
      "{'the': 2, 'lazy': 1, 'fox': 1, 'jumps': 1, 'into': 1, 'red': 1, 'sea': 1}\n"
     ]
    }
   ],
   "source": [
    "# Write a Python program to count the occurrences of each word in a given sentence.\n",
    "def countOccurancesOfWords(sentence):\n",
    "    count = {}\n",
    "    for word in sentence:\n",
    "        if word not in count:\n",
    "            count[word] = 1\n",
    "        else:\n",
    "            count[word] +=1\n",
    "    print(count)\n",
    "countOccurancesOfWords(input().split())"
   ]
  },
  {
   "cell_type": "code",
   "execution_count": 1,
   "metadata": {},
   "outputs": [
    {
     "name": "stdout",
     "output_type": "stream",
     "text": [
      "1234\n"
     ]
    },
    {
     "data": {
      "text/plain": [
       "'numbers'"
      ]
     },
     "execution_count": 1,
     "metadata": {},
     "output_type": "execute_result"
    }
   ],
   "source": [
    "# Create a function which can identify number or aplhabets or others\n",
    "def identifyMe(s):\n",
    "    if s.isalpha():\n",
    "        return 'name'\n",
    "    elif s.isdigit():\n",
    "        return 'numbers'\n",
    "    return 'Others'\n",
    "identifyMe(input())"
   ]
  },
  {
   "cell_type": "code",
   "execution_count": 4,
   "metadata": {},
   "outputs": [
    {
     "name": "stdout",
     "output_type": "stream",
     "text": [
      "abcd\n",
      "abcd\n",
      "ABCD\n"
     ]
    }
   ],
   "source": [
    "#  Write a Python script that takes input from the user and displays that input back in upper and lower cases. \n",
    "def convert(s):\n",
    "    print(s.lower())\n",
    "    print(s.upper())\n",
    "convert(input())"
   ]
  },
  {
   "cell_type": "code",
   "execution_count": 5,
   "metadata": {},
   "outputs": [
    {
     "name": "stdout",
     "output_type": "stream",
     "text": [
      "black,white,red,green,black\n",
      "black,green,red,white\n"
     ]
    }
   ],
   "source": [
    "# Write a Python program that accepts a comma separated sequence of words as input and \n",
    "# prints the unique words in sorted form (alphanumerically)\n",
    "# Sample Words : red, white, black, red, green, black\n",
    "# Expected Result : black, green, red, white\n",
    "def uniqueWordSort(s):\n",
    "    words = [word for word in s.split(',')]\n",
    "    print(\",\".join(sorted(list(set(words)))))\n",
    "uniqueWordSort(input())"
   ]
  },
  {
   "cell_type": "code",
   "execution_count": 7,
   "metadata": {},
   "outputs": [
    {
     "name": "stdout",
     "output_type": "stream",
     "text": [
      "<i>Python</i>\n",
      "<b>Python Tutorial</b>\n"
     ]
    }
   ],
   "source": [
    "#  Write a Python function to create the HTML string with tags around the word(s).\n",
    "# Sample function and result :\n",
    "# add_tags('i', 'Python') -> '<i>Python</i>'\n",
    "# add_tags('b', 'Python Tutorial') -> '<b>Python Tutorial </b>'\n",
    "def add_tags(tag, word):\n",
    "    return \"<%s>%s</%s>\" % (tag, word, tag)\n",
    "print(add_tags('i', 'Python'))\n",
    "print(add_tags('b', 'Python Tutorial'))"
   ]
  },
  {
   "cell_type": "code",
   "execution_count": 12,
   "metadata": {},
   "outputs": [
    {
     "name": "stdout",
     "output_type": "stream",
     "text": [
      "{{[[]]}}\n",
      "python\n"
     ]
    },
    {
     "data": {
      "text/plain": [
       "'{{[[python]]}}'"
      ]
     },
     "execution_count": 12,
     "metadata": {},
     "output_type": "execute_result"
    }
   ],
   "source": [
    "#  Write a Python function to insert a string in the middle of a string.\n",
    "# Sample function and result :\n",
    "# insert_sting_middle('[[]]<<>>', 'Python') -> [[Python]]\n",
    "# insert_sting_middle('{{}}', 'PHP') -> {{PHP}}\n",
    "def insert_String_Middle(s1,s2):\n",
    "    l = len(s1)//2\n",
    "    return s1[:l]+s2+s1[l:]\n",
    "insert_String_Middle(input(),input())"
   ]
  },
  {
   "cell_type": "code",
   "execution_count": 5,
   "metadata": {},
   "outputs": [
    {
     "name": "stdout",
     "output_type": "stream",
     "text": [
      "sai\n",
      "19\n",
      "2\n",
      "0\n",
      "19 0 21\n"
     ]
    }
   ],
   "source": [
    "# Take the values from the user until user gives 0 and find print the minimum and maximum and sum of numbers in given values\n",
    "li = []\n",
    "while True:\n",
    "    n=input()\n",
    "    if n=='0':\n",
    "        li.append(n)\n",
    "        break\n",
    "    elif n.isdigit():\n",
    "        li.append(n)\n",
    "li = list(map(int,li))\n",
    "print(max(li),min(li),sum(li))"
   ]
  },
  {
   "cell_type": "code",
   "execution_count": 10,
   "metadata": {},
   "outputs": [
    {
     "name": "stdout",
     "output_type": "stream",
     "text": [
      "python\n"
     ]
    },
    {
     "data": {
      "text/plain": [
       "'onononon'"
      ]
     },
     "execution_count": 10,
     "metadata": {},
     "output_type": "execute_result"
    }
   ],
   "source": [
    "# Write a Python function to get a string made of 4 copies of the last two characters of a specified string \n",
    "# (length must be at least 2)\n",
    "def copystring(s):\n",
    "    return s[-2:]*4\n",
    "copystring(input())"
   ]
  },
  {
   "cell_type": "code",
   "execution_count": 12,
   "metadata": {},
   "outputs": [
    {
     "name": "stdout",
     "output_type": "stream",
     "text": [
      "ipy\n"
     ]
    },
    {
     "data": {
      "text/plain": [
       "'ipy'"
      ]
     },
     "execution_count": 12,
     "metadata": {},
     "output_type": "execute_result"
    }
   ],
   "source": [
    "#  Write a Python function to get a string made of its first three characters of a specified string.\n",
    "# If the length of the string is less than 3 then return the original string.\n",
    "# Sample function and result :\n",
    "# first_three('ipy') -> ipy\n",
    "# first_three('python') -> pyt\n",
    "def newstring(s):\n",
    "    if len(s)<3:\n",
    "        return s\n",
    "    else:\n",
    "        return s[:3]\n",
    "newstring(input())"
   ]
  },
  {
   "cell_type": "code",
   "execution_count": 15,
   "metadata": {},
   "outputs": [
    {
     "name": "stdout",
     "output_type": "stream",
     "text": [
      "python 3\n"
     ]
    },
    {
     "data": {
      "text/plain": [
       "'3 nohtyp'"
      ]
     },
     "execution_count": 15,
     "metadata": {},
     "output_type": "execute_result"
    }
   ],
   "source": [
    "# Write a Python function to reverses a string if it's length is a multiple of 4.\n",
    "def reverseStringMultipleOf4(s):\n",
    "    if len(s)%4==0:\n",
    "        return s[::-1]\n",
    "    return s\n",
    "reverseStringMultipleOf4(input())"
   ]
  },
  {
   "cell_type": "code",
   "execution_count": 16,
   "metadata": {},
   "outputs": [
    {
     "name": "stdout",
     "output_type": "stream",
     "text": [
      "sindhu662\n",
      "['2', '6', '6', 'd', 'h', 'i', 'n', 's', 'u']\n"
     ]
    }
   ],
   "source": [
    "# Write a Python program to sort a string lexicographically.\n",
    "def lexicographic_sort(s):\n",
    "    return sorted(sorted(s), key=str.upper)\n",
    "print(lexicographic_sort(input()))"
   ]
  },
  {
   "cell_type": "code",
   "execution_count": 2,
   "metadata": {},
   "outputs": [
    {
     "name": "stdout",
     "output_type": "stream",
     "text": [
      "w3resours\n",
      "wre\n"
     ]
    },
    {
     "data": {
      "text/plain": [
       "False"
      ]
     },
     "execution_count": 2,
     "metadata": {},
     "output_type": "execute_result"
    }
   ],
   "source": [
    "# Write a Python program to check whether a string starts with specified characters.\n",
    "def checkStarting(s,checks):\n",
    "    if checks == s[:len(checks)]:\n",
    "        return True\n",
    "    return False\n",
    "checkStarting(input(),input())"
   ]
  },
  {
   "cell_type": "code",
   "execution_count": 10,
   "metadata": {},
   "outputs": [
    {
     "name": "stdout",
     "output_type": "stream",
     "text": [
      "AADSF\n",
      ">>APC"
     ]
    }
   ],
   "source": [
    "# Write a Python program to create a Caesar encryption.\n",
    "# For example, with a left shift of 3, D would be replaced by A, E would become B, and so on.\n",
    "def caesarEncrypt(S):\n",
    "    for i in S:\n",
    "        print(chr(ord(i)-3),end='')\n",
    "caesarEncrypt(input())"
   ]
  },
  {
   "cell_type": "code",
   "execution_count": 11,
   "metadata": {},
   "outputs": [
    {
     "name": "stdout",
     "output_type": "stream",
     "text": [
      "\n",
      "   Python is a widely used high-level, general-\n",
      "purpose, interpreted,   dynamic programming\n",
      "language. Its design philosophy emphasizes   code\n",
      "readability, and its syntax allows programmers to\n",
      "express   concepts in fewer lines of code than\n",
      "possible in languages such   as C++ or Java.\n",
      "\n"
     ]
    }
   ],
   "source": [
    "# Write a Python program to display formatted text (width=50) as output.\n",
    "import textwrap\n",
    "sample_text = '''\n",
    "  Python is a widely used high-level, general-purpose, interpreted,\n",
    "  dynamic programming language. Its design philosophy emphasizes\n",
    "  code readability, and its syntax allows programmers to express\n",
    "  concepts in fewer lines of code than possible in languages such\n",
    "  as C++ or Java.\n",
    "  '''\n",
    "print()\n",
    "print(textwrap.fill(sample_text, width=50))\n",
    "print()"
   ]
  },
  {
   "cell_type": "code",
   "execution_count": 12,
   "metadata": {},
   "outputs": [
    {
     "name": "stdout",
     "output_type": "stream",
     "text": [
      "\n",
      "\n",
      "Python is a widely used high-level, general-purpose, interpreted,\n",
      "dynamic programming language. Its design philosophy emphasizes\n",
      "code readability, and its syntax allows programmers to express\n",
      "concepts in fewer lines of code than possible in languages such\n",
      "as C++ or Java.\n",
      "\n",
      "\n"
     ]
    }
   ],
   "source": [
    "# Write a Python program to remove existing indentation from all of the lines in a given text.\n",
    "import textwrap\n",
    "sample_text = '''\n",
    "    Python is a widely used high-level, general-purpose, interpreted,\n",
    "    dynamic programming language. Its design philosophy emphasizes\n",
    "    code readability, and its syntax allows programmers to express\n",
    "    concepts in fewer lines of code than possible in languages such\n",
    "    as C++ or Java.\n",
    "    '''\n",
    "text_without_Indentation = textwrap.dedent(sample_text)\n",
    "print()\n",
    "print(text_without_Indentation )\n",
    "print()"
   ]
  },
  {
   "cell_type": "markdown",
   "metadata": {},
   "source": [
    "## str.join(sequence_or_collectionofitems)"
   ]
  },
  {
   "cell_type": "code",
   "execution_count": 14,
   "metadata": {},
   "outputs": [
    {
     "data": {
      "text/plain": [
       "'s@i@n@d@h@u'"
      ]
     },
     "execution_count": 14,
     "metadata": {},
     "output_type": "execute_result"
    }
   ],
   "source": [
    "my = ['s','i','n','d','h','u']\n",
    "'@'.join(my)"
   ]
  },
  {
   "cell_type": "code",
   "execution_count": 27,
   "metadata": {},
   "outputs": [
    {
     "name": "stdout",
     "output_type": "stream",
     "text": [
      "sindhu\n"
     ]
    }
   ],
   "source": [
    "name = 's i n d h u'\n",
    "print(''.join(name.split()))"
   ]
  },
  {
   "cell_type": "code",
   "execution_count": 38,
   "metadata": {},
   "outputs": [
    {
     "name": "stdout",
     "output_type": "stream",
     "text": [
      "sai 100\n",
      "puja 180\n"
     ]
    }
   ],
   "source": [
    "students = [('sai',\"10,20,30,40\"),('puja',\"30,40,50,60\")]\n",
    "for i in range(len(students)):\n",
    "    li = students[i][1].split(',')\n",
    "    li = list(map(int,li))\n",
    "    print(students[i][0],sum(li))"
   ]
  },
  {
   "cell_type": "code",
   "execution_count": 48,
   "metadata": {},
   "outputs": [
    {
     "name": "stdout",
     "output_type": "stream",
     "text": [
      "234.34058345\n",
      "234.34\n"
     ]
    }
   ],
   "source": [
    "# Write a Python program to print the following floating numbers upto 2 decimal places.\n",
    "n = float(input())\n",
    "print(\"%.2f\" %n)"
   ]
  },
  {
   "cell_type": "code",
   "execution_count": 57,
   "metadata": {},
   "outputs": [
    {
     "name": "stdout",
     "output_type": "stream",
     "text": [
      "2384.99\n",
      "2385\n"
     ]
    }
   ],
   "source": [
    "# Write a Python program to print the following floating numbers with no decimal places.\n",
    "n=float(input())\n",
    "print(\"{:.0f}\".format(n))"
   ]
  },
  {
   "cell_type": "code",
   "execution_count": 59,
   "metadata": {},
   "outputs": [
    {
     "name": "stdout",
     "output_type": "stream",
     "text": [
      "12\n",
      "012\n"
     ]
    }
   ],
   "source": [
    "# Write a Python program to print the following integers with zeros on the left of specified width. \n",
    "n = int(input())\n",
    "print(\"{:0>3d}\".format(n))"
   ]
  },
  {
   "cell_type": "code",
   "execution_count": 73,
   "metadata": {},
   "outputs": [
    {
     "name": "stdout",
     "output_type": "stream",
     "text": [
      "['hai hello ', 'Good morning', '']\n",
      "hai\n",
      "hello\n",
      "\"Good morning\"\n"
     ]
    }
   ],
   "source": [
    "# Split all sentences and words\n",
    "p = 'hai hello \"Good morning\"'\n",
    "sentences = p.split('\"')\n",
    "print(sentences)\n",
    "for sentence in sentences:\n",
    "    if len(sentence)>0:\n",
    "        if sentence.endswith(' '):\n",
    "            for word in sentence.split():\n",
    "                print(word)\n",
    "        else:\n",
    "            print('\"'+sentence+'\"')"
   ]
  },
  {
   "cell_type": "code",
   "execution_count": 75,
   "metadata": {},
   "outputs": [
    {
     "name": "stdout",
     "output_type": "stream",
     "text": [
      "10000\n",
      "10,000\n"
     ]
    }
   ],
   "source": [
    "# Write a Python program to display a number with a comma separator.\n",
    "n = int(input())\n",
    "print(\"{:,}\".format(n))"
   ]
  },
  {
   "cell_type": "code",
   "execution_count": 77,
   "metadata": {},
   "outputs": [
    {
     "name": "stdout",
     "output_type": "stream",
     "text": [
      "23\n",
      "23*****\n"
     ]
    }
   ],
   "source": [
    "#  Write a Python program to print the following integers with '*' on the right of specified width.\n",
    "n = int(input())\n",
    "print(\"{:*<7d}\".format(n))"
   ]
  },
  {
   "cell_type": "code",
   "execution_count": 80,
   "metadata": {},
   "outputs": [
    {
     "name": "stdout",
     "output_type": "stream",
     "text": [
      "0.25\n",
      "25.00%\n"
     ]
    }
   ],
   "source": [
    "#  Write a Python program to format a number with a percentage.\n",
    "n = float(input())\n",
    "print(\"{:.2%}\".format(n))"
   ]
  },
  {
   "cell_type": "code",
   "execution_count": 83,
   "metadata": {},
   "outputs": [
    {
     "name": "stdout",
     "output_type": "stream",
     "text": [
      "1\n",
      " 1        \n"
     ]
    }
   ],
   "source": [
    "# Write a Python program to display a number in left, right and center aligned of width 10\n",
    "n = int(input())\n",
    "print(\"{:< 10d}\".format(n))\n",
    "print(\"{:10d}\".format(n))\n",
    "print()"
   ]
  },
  {
   "cell_type": "code",
   "execution_count": 90,
   "metadata": {},
   "outputs": [
    {
     "name": "stdout",
     "output_type": "stream",
     "text": [
      "laya\n",
      "princy\n"
     ]
    }
   ],
   "source": [
    "# Print the names not ending with u and i\n",
    "names = ['ramu','laskhmi','laya','princy']\n",
    "for name in names:\n",
    "    #if not name.endswith('u') or name.endswith('i'):\n",
    "    #if not name[-1] =='u' or name[-1]=='i':\n",
    "    if name[-1] not in ['i','u']:\n",
    "        print(name)"
   ]
  },
  {
   "cell_type": "code",
   "execution_count": 92,
   "metadata": {},
   "outputs": [
    {
     "name": "stdout",
     "output_type": "stream",
     "text": [
      "python is very nice language and python\n",
      "python\n",
      "2\n"
     ]
    }
   ],
   "source": [
    "# Write a Python program to count occurrences of a substring in a string.\n",
    "s=input().split()\n",
    "sub = input()\n",
    "print(s.count(sub))"
   ]
  },
  {
   "cell_type": "code",
   "execution_count": 93,
   "metadata": {},
   "outputs": [
    {
     "name": "stdout",
     "output_type": "stream",
     "text": [
      "python\n",
      "nohtyp\n"
     ]
    }
   ],
   "source": [
    "#  Write a Python program to reverse a string\n",
    "s=input()\n",
    "print(s[::-1])"
   ]
  },
  {
   "cell_type": "code",
   "execution_count": 94,
   "metadata": {},
   "outputs": [
    {
     "name": "stdout",
     "output_type": "stream",
     "text": [
      "python programming\n",
      "['programming', 'python']\n"
     ]
    }
   ],
   "source": [
    "# Write a Python program to reverse words in a string.\n",
    "s=input().split()\n",
    "print(s[::-1])"
   ]
  },
  {
   "cell_type": "code",
   "execution_count": 1,
   "metadata": {},
   "outputs": [
    {
     "name": "stdout",
     "output_type": "stream",
     "text": [
      "the fox jumps in to the sea\n",
      "a e i o u\n"
     ]
    },
    {
     "data": {
      "text/plain": [
       "'th fx jmps n t th s'"
      ]
     },
     "execution_count": 1,
     "metadata": {},
     "output_type": "execute_result"
    }
   ],
   "source": [
    "# Write a Python program to strip a set of characters from a string.\n",
    "def myString(s,char):\n",
    "    return \"\".join(c for c in s if c not in char)\n",
    "myString(input(),input().split())"
   ]
  },
  {
   "cell_type": "code",
   "execution_count": 9,
   "metadata": {},
   "outputs": [
    {
     "name": "stdout",
     "output_type": "stream",
     "text": [
      "thequickbrownfoxjumpsoverthelazydog\n",
      "t 2\n",
      "h 2\n",
      "e 3\n",
      "u 2\n",
      "r 2\n",
      "o 4\n"
     ]
    }
   ],
   "source": [
    "# Write a Python program to count repeated characters in a string. Go to the editor\n",
    "# Sample string: 'thequickbrownfoxjumpsoverthelazydog'\n",
    "def charcount(s):\n",
    "    d = {}\n",
    "    for i in s:\n",
    "        if i not in d:\n",
    "            d[i] = 1\n",
    "        else:\n",
    "            d[i]+=1\n",
    "    for item in d.items():\n",
    "        if item[1]>=2:\n",
    "            print(item[0],item[1])\n",
    "charcount(input())"
   ]
  },
  {
   "cell_type": "code",
   "execution_count": 11,
   "metadata": {},
   "outputs": [
    {
     "name": "stdout",
     "output_type": "stream",
     "text": [
      "23.2343\n",
      "3423.234234\n",
      "The area of the rectangle is 23.23cm²\n",
      "The volume of the cylinder is 3423.234cm³\n"
     ]
    }
   ],
   "source": [
    "area = float(input())\n",
    "volume = float(input())\n",
    "decimals = 2\n",
    "print(\"The area of the rectangle is {0:.{1}f}cm\\u00b2\".format(area, decimals))\n",
    "decimals = 3\n",
    "print(\"The volume of the cylinder is {0:.{1}f}cm\\u00b3\".format(volume, decimals))"
   ]
  },
  {
   "cell_type": "code",
   "execution_count": 12,
   "metadata": {},
   "outputs": [
    {
     "name": "stdout",
     "output_type": "stream",
     "text": [
      "python\n",
      "p 0\n",
      "y 1\n",
      "t 2\n",
      "h 3\n",
      "o 4\n",
      "n 5\n"
     ]
    }
   ],
   "source": [
    "# Write a Python program to print the index of the character in a string.\n",
    "def indexofchar(s):\n",
    "    for i in range(len(s)):\n",
    "        print(s[i],i)\n",
    "indexofchar(input())"
   ]
  },
  {
   "cell_type": "code",
   "execution_count": 13,
   "metadata": {},
   "outputs": [
    {
     "name": "stdout",
     "output_type": "stream",
     "text": [
      "True\n",
      "False\n"
     ]
    }
   ],
   "source": [
    "#  Write a Python program to check if a string contains all letters of the alphabet\n",
    "import string\n",
    "alphabet = set(string.ascii_lowercase)\n",
    "input_string = 'The quick brown fox jumps over the lazy dog'\n",
    "print(set(input_string.lower()) >= alphabet)\n",
    "input_string = 'The quick brown fox jumps over the lazy cat'\n",
    "print(set(input_string.lower()) >= alphabet)"
   ]
  },
  {
   "cell_type": "code",
   "execution_count": 15,
   "metadata": {},
   "outputs": [
    {
     "name": "stdout",
     "output_type": "stream",
     "text": [
      "abcd ajd ajfk\n"
     ]
    },
    {
     "data": {
      "text/plain": [
       "['abcd', 'ajd', 'ajfk']"
      ]
     },
     "execution_count": 15,
     "metadata": {},
     "output_type": "execute_result"
    }
   ],
   "source": [
    "# Write a Python program to convert a string in a list.\n",
    "def strToList(s):\n",
    "    return s.split()\n",
    "strToList(input())"
   ]
  },
  {
   "cell_type": "code",
   "execution_count": 16,
   "metadata": {},
   "outputs": [
    {
     "name": "stdout",
     "output_type": "stream",
     "text": [
      "SINDHUJA\n",
      "3\n"
     ]
    },
    {
     "data": {
      "text/plain": [
       "'sinDHUJA'"
      ]
     },
     "execution_count": 16,
     "metadata": {},
     "output_type": "execute_result"
    }
   ],
   "source": [
    "# Write a Python program to lowercase first n characters in a string.\n",
    "def firstnLower(s,n):\n",
    "    return s[:n].lower()+s[n:]\n",
    "firstnLower(input(),int(input()))"
   ]
  },
  {
   "cell_type": "code",
   "execution_count": 24,
   "metadata": {},
   "outputs": [
    {
     "name": "stdout",
     "output_type": "stream",
     "text": [
      "32.054,23\n"
     ]
    },
    {
     "data": {
      "text/plain": [
       "'32,054.23'"
      ]
     },
     "execution_count": 24,
     "metadata": {},
     "output_type": "execute_result"
    }
   ],
   "source": [
    "#  Write a Python program to swap comma and dot in a string.\n",
    "def swapCommaDot(n):\n",
    "    maketrans = n.maketrans\n",
    "    n=n.translate(maketrans(',.','.,'))\n",
    "    return n\n",
    "swapCommaDot(input())"
   ]
  },
  {
   "cell_type": "code",
   "execution_count": 27,
   "metadata": {},
   "outputs": [
    {
     "name": "stdout",
     "output_type": "stream",
     "text": [
      "python programming\n",
      "{'o': 2, 'a': 1, 'i': 1}\n"
     ]
    }
   ],
   "source": [
    "# Write a Python program to count and display the vowels of a given text.\n",
    "def vowelsCount(s):\n",
    "    d={}\n",
    "    for i in s:\n",
    "        if i in ['a','e','i','o','u','A','E','I','O','U']:\n",
    "            if i not in d:\n",
    "                d[i] = 1\n",
    "            else:\n",
    "                d[i] +=1\n",
    "    print(d)\n",
    "vowelsCount(input())"
   ]
  },
  {
   "cell_type": "code",
   "execution_count": 35,
   "metadata": {},
   "outputs": [
    {
     "name": "stdout",
     "output_type": "stream",
     "text": [
      "aaccchsskkek\n",
      "{'a': 2, 'c': 3, 'h': 1, 's': 2, 'k': 3, 'e': 1}\n",
      "h\n"
     ]
    }
   ],
   "source": [
    "#  Write a Python program to find the first non-repeating character in given string.\n",
    "def firstNonRepeatingChar(s):\n",
    "    d = {}\n",
    "    for i in s:\n",
    "        if i not in d:\n",
    "            d[i] = 1\n",
    "        else:\n",
    "            d[i] +=1\n",
    "    print(d)\n",
    "    for key,value in d.items():\n",
    "        if value==1:\n",
    "            print(key)\n",
    "            break\n",
    "        else:\n",
    "            pass\n",
    "firstNonRepeatingChar(input())"
   ]
  },
  {
   "cell_type": "code",
   "execution_count": 23,
   "metadata": {},
   "outputs": [
    {
     "name": "stdout",
     "output_type": "stream",
     "text": [
      "n6n3m1l\n",
      "10\n"
     ]
    }
   ],
   "source": [
    "# sum of digits\n",
    "import re\n",
    "rollno = input()\n",
    "li = re.findall('\\d',rollno)\n",
    "li = list(map(int,li))\n",
    "print(sum(li))"
   ]
  },
  {
   "cell_type": "code",
   "execution_count": 24,
   "metadata": {},
   "outputs": [
    {
     "name": "stdout",
     "output_type": "stream",
     "text": [
      "n6m3n1k\n",
      "10\n"
     ]
    }
   ],
   "source": [
    "roll_no = input()\n",
    "li = []\n",
    "for i in roll_no:\n",
    "    if i.isdigit():\n",
    "        li.append(i)\n",
    "li = list(map(int,li))\n",
    "print(sum(li))"
   ]
  },
  {
   "cell_type": "code",
   "execution_count": 29,
   "metadata": {},
   "outputs": [
    {
     "name": "stdout",
     "output_type": "stream",
     "text": [
      "1+2+3+4\n",
      "10\n"
     ]
    }
   ],
   "source": [
    "# sum of digits 1+2+3+4\n",
    "s = input()\n",
    "tot = int(s[0])\n",
    "for i in range(len(s)):\n",
    "    if s[i]=='+':\n",
    "        tot = tot+int(s[i+1])\n",
    "print(tot)"
   ]
  },
  {
   "cell_type": "code",
   "execution_count": 95,
   "metadata": {
    "scrolled": true
   },
   "outputs": [
    {
     "name": "stdout",
     "output_type": "stream",
     "text": [
      "ravi ramu akash\n",
      "['ravi', 'ramu', 'akash']\n",
      "akash\n"
     ]
    }
   ],
   "source": [
    "# Print names which has duplicate \n",
    "s=input().split()\n",
    "li = []\n",
    "for i in s:\n",
    "    li.append(i)\n",
    "print(li)\n",
    "for word in li:\n",
    "    unique = []\n",
    "    for char in word:\n",
    "        if word.count(char)>=2:\n",
    "            print(word)\n",
    "            break"
   ]
  },
  {
   "cell_type": "code",
   "execution_count": 96,
   "metadata": {},
   "outputs": [
    {
     "name": "stdout",
     "output_type": "stream",
     "text": [
      "ramu ravi\n",
      "['ramu', 'ravi']\n",
      "-1\n",
      "-1\n"
     ]
    }
   ],
   "source": [
    "s=input().split()\n",
    "li = []\n",
    "for i in s:\n",
    "    li.append(i)\n",
    "print(li)\n",
    "for word in li:\n",
    "    unique = []\n",
    "    for char in word:\n",
    "        if word.count(char)<2:\n",
    "            print(-1)\n",
    "            break"
   ]
  },
  {
   "cell_type": "code",
   "execution_count": 2,
   "metadata": {},
   "outputs": [
    {
     "name": "stdout",
     "output_type": "stream",
     "text": [
      "python\n",
      "nohtyp"
     ]
    }
   ],
   "source": [
    "# reverse the string without using slicing\n",
    "s = input()\n",
    "for i in range(len(s)-1,-1,-1):\n",
    "    print(s[i],end='')"
   ]
  },
  {
   "cell_type": "code",
   "execution_count": 12,
   "metadata": {},
   "outputs": [
    {
     "name": "stdout",
     "output_type": "stream",
     "text": [
      "ravi ramu akash\n",
      "r\n",
      "ravi\n",
      "ramu\n",
      "-1\n"
     ]
    }
   ],
   "source": [
    "s = input().split()\n",
    "check = input()\n",
    "for i in s:\n",
    "    if i.startswith(check):  # if i[0]==check: only for one character checking\n",
    "        print(i)\n",
    "    else:\n",
    "        print(-1)"
   ]
  },
  {
   "cell_type": "code",
   "execution_count": 98,
   "metadata": {},
   "outputs": [
    {
     "name": "stdout",
     "output_type": "stream",
     "text": [
      "hai hello good morning\n",
      "haihellogoodmorning\n"
     ]
    }
   ],
   "source": [
    "# Write a Python program to remove spaces from a given string.\n",
    "s = input()\n",
    "s = s.replace(' ','')\n",
    "print(s)"
   ]
  },
  {
   "cell_type": "code",
   "execution_count": 106,
   "metadata": {},
   "outputs": [
    {
     "name": "stdout",
     "output_type": "stream",
     "text": [
      "pythonpypp\n",
      "p\n"
     ]
    }
   ],
   "source": [
    "# Write a Python program to find the maximum occurring character in a given string.\n",
    "def maxOccuringChar(s):\n",
    "    d={}\n",
    "    for i in s:\n",
    "        if i not in d:\n",
    "            d[i] = 1\n",
    "        else:\n",
    "            d[i] +=1\n",
    "    print(list(d.keys())[0])\n",
    "maxOccuringChar(input())"
   ]
  },
  {
   "cell_type": "code",
   "execution_count": 109,
   "metadata": {},
   "outputs": [
    {
     "name": "stdout",
     "output_type": "stream",
     "text": [
      "abcd wxyz\n",
      "AbcD\n",
      "WxyZ\n"
     ]
    }
   ],
   "source": [
    "# Write a Python program to capitalize first and last letters of each word of a given string.\n",
    "def capitalFirstLast(s):\n",
    "    for word in s:\n",
    "        print(word[0].upper()+word[1:-1]+word[-1].upper())\n",
    "capitalFirstLast(input().split())"
   ]
  },
  {
   "cell_type": "code",
   "execution_count": 116,
   "metadata": {},
   "outputs": [
    {
     "name": "stdout",
     "output_type": "stream",
     "text": [
      "sindhujsj\n",
      "indhu"
     ]
    }
   ],
   "source": [
    "#  Write a Python program to remove duplicate characters of a given string.\n",
    "def removeDuplicateChar(s):\n",
    "    d = {}\n",
    "    for i in s:\n",
    "        if i not in d:\n",
    "            d[i] = 1\n",
    "        else:\n",
    "            d[i] +=1\n",
    "    for item in d.items():\n",
    "        if item[1]<=1:\n",
    "            print(item[0],end='')\n",
    "removeDuplicateChar(input())"
   ]
  },
  {
   "cell_type": "code",
   "execution_count": 117,
   "metadata": {},
   "outputs": [
    {
     "name": "stdout",
     "output_type": "stream",
     "text": [
      "a1b2b3b4b5\n",
      "15\n"
     ]
    }
   ],
   "source": [
    "# Write a Python program to compute sum of digits of a given string.\n",
    "s = input()\n",
    "li = []\n",
    "for i in s:\n",
    "    if i.isdigit():\n",
    "        li.append(i)\n",
    "li = map(int,li)\n",
    "print(sum(li))"
   ]
  },
  {
   "cell_type": "code",
   "execution_count": null,
   "metadata": {},
   "outputs": [],
   "source": [
    "# "
   ]
  }
 ],
 "metadata": {
  "kernelspec": {
   "display_name": "Python 3",
   "language": "python",
   "name": "python3"
  },
  "language_info": {
   "codemirror_mode": {
    "name": "ipython",
    "version": 3
   },
   "file_extension": ".py",
   "mimetype": "text/x-python",
   "name": "python",
   "nbconvert_exporter": "python",
   "pygments_lexer": "ipython3",
   "version": "3.7.3"
  }
 },
 "nbformat": 4,
 "nbformat_minor": 2
}
