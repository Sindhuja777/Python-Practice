{
 "cells": [
  {
   "cell_type": "code",
   "execution_count": 3,
   "metadata": {},
   "outputs": [
    {
     "name": "stdout",
     "output_type": "stream",
     "text": [
      "hello world! hello world! hello world! hello world! \n"
     ]
    }
   ],
   "source": [
    "s = \"hello world! \"\n",
    "print(s*4)"
   ]
  },
  {
   "cell_type": "code",
   "execution_count": 6,
   "metadata": {},
   "outputs": [
    {
     "name": "stdout",
     "output_type": "stream",
     "text": [
      "Twinkle, twinkle, little star,\n",
      "        How I wonder what you are! \n",
      "\t\tUp above the world so high,   \t\t\n",
      "\t\tLike a diamond in the sky. \n",
      "Twinkle, twinkle, little star, \n",
      "\tHow I wonder what you are\n"
     ]
    }
   ],
   "source": [
    "print(\"\"\"Twinkle, twinkle, little star,\n",
    "        How I wonder what you are! \n",
    "\t\tUp above the world so high,   \t\t\n",
    "\t\tLike a diamond in the sky. \n",
    "Twinkle, twinkle, little star, \n",
    "\tHow I wonder what you are\"\"\")"
   ]
  },
  {
   "cell_type": "code",
   "execution_count": null,
   "metadata": {},
   "outputs": [],
   "source": []
  },
  {
   "cell_type": "code",
   "execution_count": 23,
   "metadata": {},
   "outputs": [
    {
     "name": "stdout",
     "output_type": "stream",
     "text": [
      "Mahehs\n"
     ]
    }
   ],
   "source": [
    "s='Mahesh'\n",
    "si=5\n",
    "ei=9\n",
    "if si==1:\n",
    "    print(s[ei-1::-1]+s[ei:])\n",
    "else:\n",
    "    print(s[:si-1]+s[ei-1:si-2:-1]+s[ei:])"
   ]
  },
  {
   "cell_type": "code",
   "execution_count": 21,
   "metadata": {},
   "outputs": [
    {
     "name": "stdout",
     "output_type": "stream",
     "text": [
      "semahh\n"
     ]
    }
   ],
   "source": [
    "s=\"mahesh\"\n",
    "si=3\n",
    "ei=5\n",
    "sub=s[si:ei]\n",
    "s=s.replace(sub,'')\n",
    "print(sub[::-1]+s)"
   ]
  },
  {
   "cell_type": "code",
   "execution_count": 30,
   "metadata": {},
   "outputs": [
    {
     "name": "stdout",
     "output_type": "stream",
     "text": [
      "google.com\n",
      "{'g': 2, 'o': 3, 'l': 1, 'e': 1, '.': 1, 'c': 1, 'm': 1}\n"
     ]
    }
   ],
   "source": [
    "def freq(s):\n",
    "    s=input()\n",
    "    d={}\n",
    "    for i in s:\n",
    "        if i not in d:\n",
    "            d[i]=1\n",
    "        else:\n",
    "            d[i]+=1\n",
    "    print(d)\n",
    "freq(s)"
   ]
  },
  {
   "cell_type": "code",
   "execution_count": 33,
   "metadata": {},
   "outputs": [
    {
     "name": "stdout",
     "output_type": "stream",
     "text": [
      "w\n",
      "Empty String\n"
     ]
    }
   ],
   "source": [
    "def makestr(s):\n",
    "    if len(s)>=2:\n",
    "        print(s[:2]+s[-2:])\n",
    "    else:\n",
    "        print(\"Empty String\")\n",
    "makestr(input())"
   ]
  },
  {
   "cell_type": "code",
   "execution_count": 37,
   "metadata": {},
   "outputs": [
    {
     "name": "stdout",
     "output_type": "stream",
     "text": [
      "supesious\n",
      "supe$iou$\n"
     ]
    }
   ],
   "source": [
    "def changechar(s):\n",
    "    st=s[0]\n",
    "    s=s[1:].replace(st,'$')\n",
    "    print(st+s)\n",
    "changechar(input())"
   ]
  },
  {
   "cell_type": "code",
   "execution_count": 6,
   "metadata": {},
   "outputs": [
    {
     "name": "stdout",
     "output_type": "stream",
     "text": [
      "3 Line C\n",
      "\n"
     ]
    }
   ],
   "source": [
    "file = open('book.txt','r')\n",
    "i = 0\n",
    "for each in file:\n",
    "    i=i+1\n",
    "    if i==3:\n",
    "        print(i,each)\n",
    "file.close()"
   ]
  },
  {
   "cell_type": "code",
   "execution_count": 97,
   "metadata": {},
   "outputs": [],
   "source": [
    "ipf = open('book.txt','r')\n",
    "opf = open('output.txt','w')\n",
    "for line in ipf:\n",
    "    name = line.split()[0]\n",
    "    opf.write(name+'\\n')\n",
    "ipf.close()\n",
    "opf.close()"
   ]
  },
  {
   "cell_type": "code",
   "execution_count": 125,
   "metadata": {},
   "outputs": [],
   "source": [
    "ipf = open('book.txt','r')\n",
    "opf = open('output.txt','w')\n",
    "data = ipf.readlines()[1:]\n",
    "for line in data:\n",
    "    name = line.split()[0]\n",
    "    mark = str(sum(list(map(int,line.split()[1:]))))\n",
    "    opf.write(name+' '+ mark+'\\n')\n",
    "ipf.close()\n",
    "opf.close()"
   ]
  },
  {
   "cell_type": "code",
   "execution_count": 15,
   "metadata": {},
   "outputs": [],
   "source": [
    "i = open('book.txt','r')\n",
    "o = open('output.txt','w')\n",
    "count = 0\n",
    "for line in i:\n",
    "    count += 1\n",
    "    if count==1:\n",
    "        o.write(line.strip()+'\\ttotal')\n",
    "    else:\n",
    "        mark = str(sum(list(map(int,line.split()[1:]))))\n",
    "        o.write('\\n'+line.strip()+'\\t'+mark)\n",
    "i.close()\n",
    "o.close()"
   ]
  },
  {
   "cell_type": "code",
   "execution_count": null,
   "metadata": {},
   "outputs": [],
   "source": []
  }
 ],
 "metadata": {
  "kernelspec": {
   "display_name": "Python 3",
   "language": "python",
   "name": "python3"
  },
  "language_info": {
   "codemirror_mode": {
    "name": "ipython",
    "version": 3
   },
   "file_extension": ".py",
   "mimetype": "text/x-python",
   "name": "python",
   "nbconvert_exporter": "python",
   "pygments_lexer": "ipython3",
   "version": "3.7.3"
  }
 },
 "nbformat": 4,
 "nbformat_minor": 2
}
